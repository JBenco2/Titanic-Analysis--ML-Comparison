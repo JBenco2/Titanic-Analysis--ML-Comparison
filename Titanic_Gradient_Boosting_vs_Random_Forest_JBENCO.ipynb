{
 "cells": [
  {
   "cell_type": "markdown",
   "id": "e8c47bac",
   "metadata": {},
   "source": [
    "MSDS 422 Assignment # 2 for James Benco"
   ]
  },
  {
   "cell_type": "markdown",
   "id": "d662908b",
   "metadata": {},
   "source": [
    "This section imports and sets up important variables, as well as validates the training and testing data."
   ]
  },
  {
   "cell_type": "code",
   "execution_count": 113,
   "id": "4aebb176",
   "metadata": {},
   "outputs": [],
   "source": [
    "from IPython.display import HTML\n",
    "from IPython.core.interactiveshell import InteractiveShell\n",
    "InteractiveShell.ast_node_interactivity = \"all\""
   ]
  },
  {
   "cell_type": "code",
   "execution_count": 114,
   "id": "bfec5a3a",
   "metadata": {},
   "outputs": [
    {
     "name": "stdout",
     "output_type": "stream",
     "text": [
      "Requirement already satisfied: category_encoders in c:\\users\\pain in my ass\\anaconda3\\lib\\site-packages (2.4.0)\n",
      "Requirement already satisfied: scipy>=1.0.0 in c:\\users\\pain in my ass\\anaconda3\\lib\\site-packages (from category_encoders) (1.6.2)\n",
      "Requirement already satisfied: scikit-learn>=0.20.0 in c:\\users\\pain in my ass\\anaconda3\\lib\\site-packages (from category_encoders) (0.24.1)\n",
      "Requirement already satisfied: patsy>=0.5.1 in c:\\users\\pain in my ass\\anaconda3\\lib\\site-packages (from category_encoders) (0.5.1)\n",
      "Requirement already satisfied: pandas>=0.21.1 in c:\\users\\pain in my ass\\anaconda3\\lib\\site-packages (from category_encoders) (1.2.4)\n",
      "Requirement already satisfied: statsmodels>=0.9.0 in c:\\users\\pain in my ass\\anaconda3\\lib\\site-packages (from category_encoders) (0.12.2)\n",
      "Requirement already satisfied: numpy>=1.14.0 in c:\\users\\pain in my ass\\anaconda3\\lib\\site-packages (from category_encoders) (1.20.1)\n",
      "Requirement already satisfied: python-dateutil>=2.7.3 in c:\\users\\pain in my ass\\anaconda3\\lib\\site-packages (from pandas>=0.21.1->category_encoders) (2.8.1)\n",
      "Requirement already satisfied: pytz>=2017.3 in c:\\users\\pain in my ass\\anaconda3\\lib\\site-packages (from pandas>=0.21.1->category_encoders) (2021.1)\n",
      "Requirement already satisfied: six in c:\\users\\pain in my ass\\anaconda3\\lib\\site-packages (from patsy>=0.5.1->category_encoders) (1.15.0)\n",
      "Requirement already satisfied: joblib>=0.11 in c:\\users\\pain in my ass\\anaconda3\\lib\\site-packages (from scikit-learn>=0.20.0->category_encoders) (1.0.1)\n",
      "Requirement already satisfied: threadpoolctl>=2.0.0 in c:\\users\\pain in my ass\\anaconda3\\lib\\site-packages (from scikit-learn>=0.20.0->category_encoders) (2.1.0)\n"
     ]
    }
   ],
   "source": [
    "!pip install --upgrade category_encoders"
   ]
  },
  {
   "cell_type": "code",
   "execution_count": 115,
   "id": "89d975dc",
   "metadata": {},
   "outputs": [],
   "source": [
    "import os\n",
    "import numpy as np\n",
    "import pandas as pd\n",
    "import math\n",
    "import matplotlib.pyplot as plt\n",
    "import seaborn as sns\n",
    "from sklearn.preprocessing import StandardScaler \n",
    "from sklearn.preprocessing import OneHotEncoder\n",
    "import category_encoders\n",
    "from sklearn.model_selection import GridSearchCV\n",
    "from sklearn.pipeline import Pipeline, make_pipeline\n",
    "from sklearn import metrics\n",
    "from sklearn.linear_model import LogisticRegression\n",
    "from sklearn import datasets\n",
    "from sklearn.model_selection import train_test_split\n",
    "from sklearn import linear_model\n",
    "from sklearn.metrics import classification_report\n",
    "from sklearn import dummy"
   ]
  },
  {
   "cell_type": "markdown",
   "id": "d9504b20",
   "metadata": {},
   "source": [
    "We will first import the data from the Titanic Dataset"
   ]
  },
  {
   "cell_type": "code",
   "execution_count": 116,
   "id": "af0cd1f0",
   "metadata": {},
   "outputs": [],
   "source": [
    "#Train Data file\n",
    "titanTrainDat = pd.read_csv(\"train.csv\")\n",
    "TrainDat = titanTrainDat.copy()"
   ]
  },
  {
   "cell_type": "code",
   "execution_count": 117,
   "id": "2b6ed6f3",
   "metadata": {},
   "outputs": [],
   "source": [
    "#Test Data File\n",
    "titanTestDat = pd.read_csv(\"test.csv\")\n",
    "TestDat = titanTestDat.copy()"
   ]
  },
  {
   "cell_type": "code",
   "execution_count": 118,
   "id": "24f009e1",
   "metadata": {},
   "outputs": [],
   "source": [
    "#Sample Submission File\n",
    "titanSubFile = pd.read_csv(\"gender_submission.csv\")"
   ]
  },
  {
   "cell_type": "code",
   "execution_count": 119,
   "id": "61922a85",
   "metadata": {},
   "outputs": [
    {
     "data": {
      "text/html": [
       "<div>\n",
       "<style scoped>\n",
       "    .dataframe tbody tr th:only-of-type {\n",
       "        vertical-align: middle;\n",
       "    }\n",
       "\n",
       "    .dataframe tbody tr th {\n",
       "        vertical-align: top;\n",
       "    }\n",
       "\n",
       "    .dataframe thead th {\n",
       "        text-align: right;\n",
       "    }\n",
       "</style>\n",
       "<table border=\"1\" class=\"dataframe\">\n",
       "  <thead>\n",
       "    <tr style=\"text-align: right;\">\n",
       "      <th></th>\n",
       "      <th>PassengerId</th>\n",
       "      <th>Survived</th>\n",
       "      <th>Pclass</th>\n",
       "      <th>Name</th>\n",
       "      <th>Sex</th>\n",
       "      <th>Age</th>\n",
       "      <th>SibSp</th>\n",
       "      <th>Parch</th>\n",
       "      <th>Ticket</th>\n",
       "      <th>Fare</th>\n",
       "      <th>Cabin</th>\n",
       "      <th>Embarked</th>\n",
       "    </tr>\n",
       "  </thead>\n",
       "  <tbody>\n",
       "    <tr>\n",
       "      <th>0</th>\n",
       "      <td>1</td>\n",
       "      <td>0</td>\n",
       "      <td>3</td>\n",
       "      <td>Braund, Mr. Owen Harris</td>\n",
       "      <td>male</td>\n",
       "      <td>22.0</td>\n",
       "      <td>1</td>\n",
       "      <td>0</td>\n",
       "      <td>A/5 21171</td>\n",
       "      <td>7.2500</td>\n",
       "      <td>NaN</td>\n",
       "      <td>S</td>\n",
       "    </tr>\n",
       "    <tr>\n",
       "      <th>1</th>\n",
       "      <td>2</td>\n",
       "      <td>1</td>\n",
       "      <td>1</td>\n",
       "      <td>Cumings, Mrs. John Bradley (Florence Briggs Th...</td>\n",
       "      <td>female</td>\n",
       "      <td>38.0</td>\n",
       "      <td>1</td>\n",
       "      <td>0</td>\n",
       "      <td>PC 17599</td>\n",
       "      <td>71.2833</td>\n",
       "      <td>C85</td>\n",
       "      <td>C</td>\n",
       "    </tr>\n",
       "    <tr>\n",
       "      <th>2</th>\n",
       "      <td>3</td>\n",
       "      <td>1</td>\n",
       "      <td>3</td>\n",
       "      <td>Heikkinen, Miss. Laina</td>\n",
       "      <td>female</td>\n",
       "      <td>26.0</td>\n",
       "      <td>0</td>\n",
       "      <td>0</td>\n",
       "      <td>STON/O2. 3101282</td>\n",
       "      <td>7.9250</td>\n",
       "      <td>NaN</td>\n",
       "      <td>S</td>\n",
       "    </tr>\n",
       "    <tr>\n",
       "      <th>3</th>\n",
       "      <td>4</td>\n",
       "      <td>1</td>\n",
       "      <td>1</td>\n",
       "      <td>Futrelle, Mrs. Jacques Heath (Lily May Peel)</td>\n",
       "      <td>female</td>\n",
       "      <td>35.0</td>\n",
       "      <td>1</td>\n",
       "      <td>0</td>\n",
       "      <td>113803</td>\n",
       "      <td>53.1000</td>\n",
       "      <td>C123</td>\n",
       "      <td>S</td>\n",
       "    </tr>\n",
       "    <tr>\n",
       "      <th>4</th>\n",
       "      <td>5</td>\n",
       "      <td>0</td>\n",
       "      <td>3</td>\n",
       "      <td>Allen, Mr. William Henry</td>\n",
       "      <td>male</td>\n",
       "      <td>35.0</td>\n",
       "      <td>0</td>\n",
       "      <td>0</td>\n",
       "      <td>373450</td>\n",
       "      <td>8.0500</td>\n",
       "      <td>NaN</td>\n",
       "      <td>S</td>\n",
       "    </tr>\n",
       "  </tbody>\n",
       "</table>\n",
       "</div>"
      ],
      "text/plain": [
       "   PassengerId  Survived  Pclass  \\\n",
       "0            1         0       3   \n",
       "1            2         1       1   \n",
       "2            3         1       3   \n",
       "3            4         1       1   \n",
       "4            5         0       3   \n",
       "\n",
       "                                                Name     Sex   Age  SibSp  \\\n",
       "0                            Braund, Mr. Owen Harris    male  22.0      1   \n",
       "1  Cumings, Mrs. John Bradley (Florence Briggs Th...  female  38.0      1   \n",
       "2                             Heikkinen, Miss. Laina  female  26.0      0   \n",
       "3       Futrelle, Mrs. Jacques Heath (Lily May Peel)  female  35.0      1   \n",
       "4                           Allen, Mr. William Henry    male  35.0      0   \n",
       "\n",
       "   Parch            Ticket     Fare Cabin Embarked  \n",
       "0      0         A/5 21171   7.2500   NaN        S  \n",
       "1      0          PC 17599  71.2833   C85        C  \n",
       "2      0  STON/O2. 3101282   7.9250   NaN        S  \n",
       "3      0            113803  53.1000  C123        S  \n",
       "4      0            373450   8.0500   NaN        S  "
      ]
     },
     "execution_count": 119,
     "metadata": {},
     "output_type": "execute_result"
    }
   ],
   "source": [
    "#Seeing what our data looks like\n",
    "TrainDat.head()"
   ]
  },
  {
   "cell_type": "code",
   "execution_count": 120,
   "id": "c086ba96",
   "metadata": {},
   "outputs": [
    {
     "name": "stdout",
     "output_type": "stream",
     "text": [
      "<class 'pandas.core.frame.DataFrame'>\n",
      "RangeIndex: 891 entries, 0 to 890\n",
      "Data columns (total 12 columns):\n",
      " #   Column       Non-Null Count  Dtype  \n",
      "---  ------       --------------  -----  \n",
      " 0   PassengerId  891 non-null    int64  \n",
      " 1   Survived     891 non-null    int64  \n",
      " 2   Pclass       891 non-null    int64  \n",
      " 3   Name         891 non-null    object \n",
      " 4   Sex          891 non-null    object \n",
      " 5   Age          714 non-null    float64\n",
      " 6   SibSp        891 non-null    int64  \n",
      " 7   Parch        891 non-null    int64  \n",
      " 8   Ticket       891 non-null    object \n",
      " 9   Fare         891 non-null    float64\n",
      " 10  Cabin        204 non-null    object \n",
      " 11  Embarked     889 non-null    object \n",
      "dtypes: float64(2), int64(5), object(5)\n",
      "memory usage: 83.7+ KB\n"
     ]
    }
   ],
   "source": [
    "#Checking all the headers and datatypes of the training data\n",
    "TrainDat.info()"
   ]
  },
  {
   "cell_type": "markdown",
   "id": "b46cf97f",
   "metadata": {},
   "source": [
    "From this we can see that there were 891 passengers with 10 features we can use to calibrate our prediction model for survival.\n",
    "It is also noted that some features have missing data such as \"Age\" with 177 missing values, \"Cabin\" with 687 missing values and \"Embarked\" with 2 missing values.  From this we can see that the \"Cabin\" features is relatively useless as there are many missing values, this category will be dropped from the model."
   ]
  },
  {
   "cell_type": "code",
   "execution_count": 121,
   "id": "cfec8113",
   "metadata": {},
   "outputs": [
    {
     "data": {
      "text/html": [
       "<div>\n",
       "<style scoped>\n",
       "    .dataframe tbody tr th:only-of-type {\n",
       "        vertical-align: middle;\n",
       "    }\n",
       "\n",
       "    .dataframe tbody tr th {\n",
       "        vertical-align: top;\n",
       "    }\n",
       "\n",
       "    .dataframe thead th {\n",
       "        text-align: right;\n",
       "    }\n",
       "</style>\n",
       "<table border=\"1\" class=\"dataframe\">\n",
       "  <thead>\n",
       "    <tr style=\"text-align: right;\">\n",
       "      <th></th>\n",
       "      <th>PassengerId</th>\n",
       "      <th>Survived</th>\n",
       "      <th>Pclass</th>\n",
       "      <th>Age</th>\n",
       "      <th>SibSp</th>\n",
       "      <th>Parch</th>\n",
       "      <th>Fare</th>\n",
       "    </tr>\n",
       "  </thead>\n",
       "  <tbody>\n",
       "    <tr>\n",
       "      <th>count</th>\n",
       "      <td>891.000000</td>\n",
       "      <td>891.000000</td>\n",
       "      <td>891.000000</td>\n",
       "      <td>714.000000</td>\n",
       "      <td>891.000000</td>\n",
       "      <td>891.000000</td>\n",
       "      <td>891.000000</td>\n",
       "    </tr>\n",
       "    <tr>\n",
       "      <th>mean</th>\n",
       "      <td>446.000000</td>\n",
       "      <td>0.383838</td>\n",
       "      <td>2.308642</td>\n",
       "      <td>29.699118</td>\n",
       "      <td>0.523008</td>\n",
       "      <td>0.381594</td>\n",
       "      <td>32.204208</td>\n",
       "    </tr>\n",
       "    <tr>\n",
       "      <th>std</th>\n",
       "      <td>257.353842</td>\n",
       "      <td>0.486592</td>\n",
       "      <td>0.836071</td>\n",
       "      <td>14.526497</td>\n",
       "      <td>1.102743</td>\n",
       "      <td>0.806057</td>\n",
       "      <td>49.693429</td>\n",
       "    </tr>\n",
       "    <tr>\n",
       "      <th>min</th>\n",
       "      <td>1.000000</td>\n",
       "      <td>0.000000</td>\n",
       "      <td>1.000000</td>\n",
       "      <td>0.420000</td>\n",
       "      <td>0.000000</td>\n",
       "      <td>0.000000</td>\n",
       "      <td>0.000000</td>\n",
       "    </tr>\n",
       "    <tr>\n",
       "      <th>25%</th>\n",
       "      <td>223.500000</td>\n",
       "      <td>0.000000</td>\n",
       "      <td>2.000000</td>\n",
       "      <td>20.125000</td>\n",
       "      <td>0.000000</td>\n",
       "      <td>0.000000</td>\n",
       "      <td>7.910400</td>\n",
       "    </tr>\n",
       "    <tr>\n",
       "      <th>50%</th>\n",
       "      <td>446.000000</td>\n",
       "      <td>0.000000</td>\n",
       "      <td>3.000000</td>\n",
       "      <td>28.000000</td>\n",
       "      <td>0.000000</td>\n",
       "      <td>0.000000</td>\n",
       "      <td>14.454200</td>\n",
       "    </tr>\n",
       "    <tr>\n",
       "      <th>75%</th>\n",
       "      <td>668.500000</td>\n",
       "      <td>1.000000</td>\n",
       "      <td>3.000000</td>\n",
       "      <td>38.000000</td>\n",
       "      <td>1.000000</td>\n",
       "      <td>0.000000</td>\n",
       "      <td>31.000000</td>\n",
       "    </tr>\n",
       "    <tr>\n",
       "      <th>max</th>\n",
       "      <td>891.000000</td>\n",
       "      <td>1.000000</td>\n",
       "      <td>3.000000</td>\n",
       "      <td>80.000000</td>\n",
       "      <td>8.000000</td>\n",
       "      <td>6.000000</td>\n",
       "      <td>512.329200</td>\n",
       "    </tr>\n",
       "  </tbody>\n",
       "</table>\n",
       "</div>"
      ],
      "text/plain": [
       "       PassengerId    Survived      Pclass         Age       SibSp  \\\n",
       "count   891.000000  891.000000  891.000000  714.000000  891.000000   \n",
       "mean    446.000000    0.383838    2.308642   29.699118    0.523008   \n",
       "std     257.353842    0.486592    0.836071   14.526497    1.102743   \n",
       "min       1.000000    0.000000    1.000000    0.420000    0.000000   \n",
       "25%     223.500000    0.000000    2.000000   20.125000    0.000000   \n",
       "50%     446.000000    0.000000    3.000000   28.000000    0.000000   \n",
       "75%     668.500000    1.000000    3.000000   38.000000    1.000000   \n",
       "max     891.000000    1.000000    3.000000   80.000000    8.000000   \n",
       "\n",
       "            Parch        Fare  \n",
       "count  891.000000  891.000000  \n",
       "mean     0.381594   32.204208  \n",
       "std      0.806057   49.693429  \n",
       "min      0.000000    0.000000  \n",
       "25%      0.000000    7.910400  \n",
       "50%      0.000000   14.454200  \n",
       "75%      0.000000   31.000000  \n",
       "max      6.000000  512.329200  "
      ]
     },
     "execution_count": 121,
     "metadata": {},
     "output_type": "execute_result"
    }
   ],
   "source": [
    "#We will now check for normalization, if any exists in the dataset\n",
    "TrainDat.describe()"
   ]
  },
  {
   "cell_type": "markdown",
   "id": "2ff27e3b",
   "metadata": {},
   "source": [
    "From this the data is not normalized, and that \"Age, Fare and SibSp\" contain a large range of values with possible outliers.  We will want to clean this up before creating our model."
   ]
  },
  {
   "cell_type": "markdown",
   "id": "2fd902a8",
   "metadata": {},
   "source": [
    "Statistical EDA"
   ]
  },
  {
   "cell_type": "markdown",
   "id": "23c5be66",
   "metadata": {},
   "source": [
    "For this model OneHotEncoder will be pivotal in this and in order to limit the amount of unique values while still retaining information, I will transform the \"Name\" into a categorical column with values similar \"Mr, Mrs, Miss, MS, No Title\" to retain the gendered information while making it easier to handle for the encoder."
   ]
  },
  {
   "cell_type": "code",
   "execution_count": 122,
   "id": "9d022d07",
   "metadata": {},
   "outputs": [
    {
     "data": {
      "text/plain": [
       "0      None\n",
       "1      None\n",
       "2      None\n",
       "3      None\n",
       "4      None\n",
       "       ... \n",
       "886    None\n",
       "887    None\n",
       "888    None\n",
       "889    None\n",
       "890    None\n",
       "Name: Name, Length: 891, dtype: object"
      ]
     },
     "execution_count": 122,
     "metadata": {},
     "output_type": "execute_result"
    },
    {
     "name": "stdout",
     "output_type": "stream",
     "text": [
      "{'Mulder,', 'Walle,', 'Planke,', 'Master.', 'Dr.', 'Mr.', 'Jonkheer.', 'der', 'Steen,', 'Rev.', 'Melkebeke,', 'Capt.', 'Cruyssen,', 'Pelsmaeker,', 'y', 'Carlo,', 'the', 'Velde,', 'Gordon,', 'Shawah,', 'Col.', 'Ms.', 'Messemaeker,', 'Major.', 'Don.', 'Billiard,', 'Mrs.', 'Miss.', 'Impe,', 'Mlle.', 'Mme.'}\n"
     ]
    }
   ],
   "source": [
    "titles = []\n",
    "TrainDat['Name'].apply(lambda x: titles.append(x.split(\" \")[1]))\n",
    "title = set(titles)\n",
    "print(title)"
   ]
  },
  {
   "cell_type": "markdown",
   "id": "b27fe7df",
   "metadata": {},
   "source": [
    "The titles that will be kept as is are \"Mr, Mrs, Miss, Ms, Major, Capt, Col, Don, Master, Rev, Dr, Mlle and Mme\" as these titles will denote important qualities which may prove to be beneficial or harmful in their survival."
   ]
  },
  {
   "cell_type": "code",
   "execution_count": 123,
   "id": "f4dd8fac",
   "metadata": {},
   "outputs": [],
   "source": [
    "#Creating a function to transform based on the titles I wish to keep in the dataset.\n",
    "def titleTrans(name):\n",
    "    if 'Mrs' in name:\n",
    "        return 'Mrs'\n",
    "    elif 'Mr' in name:\n",
    "        return 'Mr'\n",
    "    elif 'Miss' in name:\n",
    "        return 'Miss'\n",
    "    elif 'Ms' in name:\n",
    "        return 'Ms'\n",
    "    elif 'Major' in name:\n",
    "        return 'Major'\n",
    "    elif 'Capt' in name:\n",
    "        return 'Capt'\n",
    "    elif 'Col' in name:\n",
    "        return 'Col'\n",
    "    elif 'Don' in name:\n",
    "        return 'Don'\n",
    "    elif 'Master' in name:\n",
    "        return 'Master'\n",
    "    elif 'Rev' in name:\n",
    "        return 'Rev'\n",
    "    elif 'Dr' in name:\n",
    "        return 'Dr'\n",
    "    elif 'Mlle' in name:\n",
    "        return 'Mlle'\n",
    "    elif 'Mme' in name:\n",
    "        return 'Mme'\n",
    "    else:\n",
    "        return 'No Title'"
   ]
  },
  {
   "cell_type": "code",
   "execution_count": 124,
   "id": "e2806f61",
   "metadata": {},
   "outputs": [
    {
     "data": {
      "text/html": [
       "<div>\n",
       "<style scoped>\n",
       "    .dataframe tbody tr th:only-of-type {\n",
       "        vertical-align: middle;\n",
       "    }\n",
       "\n",
       "    .dataframe tbody tr th {\n",
       "        vertical-align: top;\n",
       "    }\n",
       "\n",
       "    .dataframe thead th {\n",
       "        text-align: right;\n",
       "    }\n",
       "</style>\n",
       "<table border=\"1\" class=\"dataframe\">\n",
       "  <thead>\n",
       "    <tr style=\"text-align: right;\">\n",
       "      <th></th>\n",
       "      <th>PassengerId</th>\n",
       "      <th>Survived</th>\n",
       "      <th>Pclass</th>\n",
       "      <th>Name</th>\n",
       "      <th>Sex</th>\n",
       "      <th>Age</th>\n",
       "      <th>SibSp</th>\n",
       "      <th>Parch</th>\n",
       "      <th>Ticket</th>\n",
       "      <th>Fare</th>\n",
       "      <th>Cabin</th>\n",
       "      <th>Embarked</th>\n",
       "    </tr>\n",
       "  </thead>\n",
       "  <tbody>\n",
       "    <tr>\n",
       "      <th>0</th>\n",
       "      <td>1</td>\n",
       "      <td>0</td>\n",
       "      <td>3</td>\n",
       "      <td>Mr</td>\n",
       "      <td>male</td>\n",
       "      <td>22.0</td>\n",
       "      <td>1</td>\n",
       "      <td>0</td>\n",
       "      <td>A/5 21171</td>\n",
       "      <td>7.2500</td>\n",
       "      <td>NaN</td>\n",
       "      <td>S</td>\n",
       "    </tr>\n",
       "    <tr>\n",
       "      <th>1</th>\n",
       "      <td>2</td>\n",
       "      <td>1</td>\n",
       "      <td>1</td>\n",
       "      <td>Mrs</td>\n",
       "      <td>female</td>\n",
       "      <td>38.0</td>\n",
       "      <td>1</td>\n",
       "      <td>0</td>\n",
       "      <td>PC 17599</td>\n",
       "      <td>71.2833</td>\n",
       "      <td>C85</td>\n",
       "      <td>C</td>\n",
       "    </tr>\n",
       "    <tr>\n",
       "      <th>2</th>\n",
       "      <td>3</td>\n",
       "      <td>1</td>\n",
       "      <td>3</td>\n",
       "      <td>Miss</td>\n",
       "      <td>female</td>\n",
       "      <td>26.0</td>\n",
       "      <td>0</td>\n",
       "      <td>0</td>\n",
       "      <td>STON/O2. 3101282</td>\n",
       "      <td>7.9250</td>\n",
       "      <td>NaN</td>\n",
       "      <td>S</td>\n",
       "    </tr>\n",
       "    <tr>\n",
       "      <th>3</th>\n",
       "      <td>4</td>\n",
       "      <td>1</td>\n",
       "      <td>1</td>\n",
       "      <td>Mrs</td>\n",
       "      <td>female</td>\n",
       "      <td>35.0</td>\n",
       "      <td>1</td>\n",
       "      <td>0</td>\n",
       "      <td>113803</td>\n",
       "      <td>53.1000</td>\n",
       "      <td>C123</td>\n",
       "      <td>S</td>\n",
       "    </tr>\n",
       "    <tr>\n",
       "      <th>4</th>\n",
       "      <td>5</td>\n",
       "      <td>0</td>\n",
       "      <td>3</td>\n",
       "      <td>Mr</td>\n",
       "      <td>male</td>\n",
       "      <td>35.0</td>\n",
       "      <td>0</td>\n",
       "      <td>0</td>\n",
       "      <td>373450</td>\n",
       "      <td>8.0500</td>\n",
       "      <td>NaN</td>\n",
       "      <td>S</td>\n",
       "    </tr>\n",
       "    <tr>\n",
       "      <th>5</th>\n",
       "      <td>6</td>\n",
       "      <td>0</td>\n",
       "      <td>3</td>\n",
       "      <td>Mr</td>\n",
       "      <td>male</td>\n",
       "      <td>NaN</td>\n",
       "      <td>0</td>\n",
       "      <td>0</td>\n",
       "      <td>330877</td>\n",
       "      <td>8.4583</td>\n",
       "      <td>NaN</td>\n",
       "      <td>Q</td>\n",
       "    </tr>\n",
       "    <tr>\n",
       "      <th>6</th>\n",
       "      <td>7</td>\n",
       "      <td>0</td>\n",
       "      <td>1</td>\n",
       "      <td>Mr</td>\n",
       "      <td>male</td>\n",
       "      <td>54.0</td>\n",
       "      <td>0</td>\n",
       "      <td>0</td>\n",
       "      <td>17463</td>\n",
       "      <td>51.8625</td>\n",
       "      <td>E46</td>\n",
       "      <td>S</td>\n",
       "    </tr>\n",
       "    <tr>\n",
       "      <th>7</th>\n",
       "      <td>8</td>\n",
       "      <td>0</td>\n",
       "      <td>3</td>\n",
       "      <td>Master</td>\n",
       "      <td>male</td>\n",
       "      <td>2.0</td>\n",
       "      <td>3</td>\n",
       "      <td>1</td>\n",
       "      <td>349909</td>\n",
       "      <td>21.0750</td>\n",
       "      <td>NaN</td>\n",
       "      <td>S</td>\n",
       "    </tr>\n",
       "    <tr>\n",
       "      <th>8</th>\n",
       "      <td>9</td>\n",
       "      <td>1</td>\n",
       "      <td>3</td>\n",
       "      <td>Mrs</td>\n",
       "      <td>female</td>\n",
       "      <td>27.0</td>\n",
       "      <td>0</td>\n",
       "      <td>2</td>\n",
       "      <td>347742</td>\n",
       "      <td>11.1333</td>\n",
       "      <td>NaN</td>\n",
       "      <td>S</td>\n",
       "    </tr>\n",
       "    <tr>\n",
       "      <th>9</th>\n",
       "      <td>10</td>\n",
       "      <td>1</td>\n",
       "      <td>2</td>\n",
       "      <td>Mrs</td>\n",
       "      <td>female</td>\n",
       "      <td>14.0</td>\n",
       "      <td>1</td>\n",
       "      <td>0</td>\n",
       "      <td>237736</td>\n",
       "      <td>30.0708</td>\n",
       "      <td>NaN</td>\n",
       "      <td>C</td>\n",
       "    </tr>\n",
       "  </tbody>\n",
       "</table>\n",
       "</div>"
      ],
      "text/plain": [
       "   PassengerId  Survived  Pclass    Name     Sex   Age  SibSp  Parch  \\\n",
       "0            1         0       3      Mr    male  22.0      1      0   \n",
       "1            2         1       1     Mrs  female  38.0      1      0   \n",
       "2            3         1       3    Miss  female  26.0      0      0   \n",
       "3            4         1       1     Mrs  female  35.0      1      0   \n",
       "4            5         0       3      Mr    male  35.0      0      0   \n",
       "5            6         0       3      Mr    male   NaN      0      0   \n",
       "6            7         0       1      Mr    male  54.0      0      0   \n",
       "7            8         0       3  Master    male   2.0      3      1   \n",
       "8            9         1       3     Mrs  female  27.0      0      2   \n",
       "9           10         1       2     Mrs  female  14.0      1      0   \n",
       "\n",
       "             Ticket     Fare Cabin Embarked  \n",
       "0         A/5 21171   7.2500   NaN        S  \n",
       "1          PC 17599  71.2833   C85        C  \n",
       "2  STON/O2. 3101282   7.9250   NaN        S  \n",
       "3            113803  53.1000  C123        S  \n",
       "4            373450   8.0500   NaN        S  \n",
       "5            330877   8.4583   NaN        Q  \n",
       "6             17463  51.8625   E46        S  \n",
       "7            349909  21.0750   NaN        S  \n",
       "8            347742  11.1333   NaN        S  \n",
       "9            237736  30.0708   NaN        C  "
      ]
     },
     "execution_count": 124,
     "metadata": {},
     "output_type": "execute_result"
    }
   ],
   "source": [
    "#Now we will apply this function to our training data\n",
    "TrainDat['Name']= TrainDat['Name'].apply(lambda x: titleTrans(x))\n",
    "TrainDat.head(10)"
   ]
  },
  {
   "cell_type": "markdown",
   "id": "5b92e653",
   "metadata": {},
   "source": [
    "The next column we would like to normalize a bit would be the Ticket Column as although most are just numbers, others are strings which would muddy up that data.  There is no pattern though, and would be difficult to parse out the strings. We will see with just the numeric versions of this column if there is a correlation to survival, but my suspicion would be that they are not necessarily well correlated."
   ]
  },
  {
   "cell_type": "markdown",
   "id": "0d59e264",
   "metadata": {},
   "source": [
    "We will split our features into numeric and categorical sections.  \n",
    "The categorical sections will include \"Survived, Pclass, Sex, Embarked and Name\" as these are a mixture of ordinal lists and strings.\n",
    "\n",
    "The numeric sections will include \"Age, SibSp, Parch\" as these are counts of values either years in \"Age\" number of siblings or number of parents/children."
   ]
  },
  {
   "cell_type": "code",
   "execution_count": 125,
   "id": "1df9d648",
   "metadata": {},
   "outputs": [],
   "source": [
    "catFeature = ['Survived','Pclass','Sex','Embarked','Name']\n",
    "numFeature = ['Age','SibSp','Parch','Fare']"
   ]
  },
  {
   "cell_type": "code",
   "execution_count": 126,
   "id": "d97e1bdc",
   "metadata": {},
   "outputs": [
    {
     "data": {
      "text/plain": [
       "<Figure size 1800x1440 with 0 Axes>"
      ]
     },
     "execution_count": 126,
     "metadata": {},
     "output_type": "execute_result"
    },
    {
     "data": {
      "text/plain": [
       "<AxesSubplot:>"
      ]
     },
     "execution_count": 126,
     "metadata": {},
     "output_type": "execute_result"
    },
    {
     "data": {
      "text/plain": [
       "<AxesSubplot:xlabel='Survived', ylabel='count'>"
      ]
     },
     "execution_count": 126,
     "metadata": {},
     "output_type": "execute_result"
    },
    {
     "data": {
      "text/plain": [
       "<AxesSubplot:>"
      ]
     },
     "execution_count": 126,
     "metadata": {},
     "output_type": "execute_result"
    },
    {
     "data": {
      "text/plain": [
       "<AxesSubplot:xlabel='Pclass', ylabel='count'>"
      ]
     },
     "execution_count": 126,
     "metadata": {},
     "output_type": "execute_result"
    },
    {
     "data": {
      "text/plain": [
       "<AxesSubplot:>"
      ]
     },
     "execution_count": 126,
     "metadata": {},
     "output_type": "execute_result"
    },
    {
     "data": {
      "text/plain": [
       "<AxesSubplot:xlabel='Sex', ylabel='count'>"
      ]
     },
     "execution_count": 126,
     "metadata": {},
     "output_type": "execute_result"
    },
    {
     "data": {
      "text/plain": [
       "<AxesSubplot:>"
      ]
     },
     "execution_count": 126,
     "metadata": {},
     "output_type": "execute_result"
    },
    {
     "data": {
      "text/plain": [
       "<AxesSubplot:xlabel='Embarked', ylabel='count'>"
      ]
     },
     "execution_count": 126,
     "metadata": {},
     "output_type": "execute_result"
    },
    {
     "data": {
      "text/plain": [
       "<AxesSubplot:>"
      ]
     },
     "execution_count": 126,
     "metadata": {},
     "output_type": "execute_result"
    },
    {
     "data": {
      "text/plain": [
       "<AxesSubplot:xlabel='Name', ylabel='count'>"
      ]
     },
     "execution_count": 126,
     "metadata": {},
     "output_type": "execute_result"
    },
    {
     "data": {
      "image/png": "[encoded data removed]",
      "text/plain": [
       "<Figure size 1800x1440 with 5 Axes>"
      ]
     },
     "metadata": {
      "needs_background": "light"
     },
     "output_type": "display_data"
    }
   ],
   "source": [
    "#We will see the distributions of the categorical features in the dataset\n",
    "plt.figure(figsize = (25,20))\n",
    "for n in enumerate(catFeature):\n",
    "    plt.subplot(2,3, n[0]+1)\n",
    "    sns.countplot(x=n[1], data = TrainDat)"
   ]
  },
  {
   "cell_type": "markdown",
   "id": "b2ac2bd7",
   "metadata": {},
   "source": [
    "From this we can take these conclusions:\n",
    "1). More people died than survived.\n",
    "2). 3rd class was the most numerous on the ship\n",
    "3). There were more men than women on the ship\n",
    "4). Most who embarked were from Southhampton\n",
    "5). Most people had the title of 'Mr' (after our name transformation)"
   ]
  },
  {
   "cell_type": "markdown",
   "id": "572e7a4c",
   "metadata": {},
   "source": [
    "The same analysis will be done to see if there is a survival pattern for each categorical feature:"
   ]
  },
  {
   "cell_type": "code",
   "execution_count": 127,
   "id": "252ba8d8",
   "metadata": {},
   "outputs": [
    {
     "data": {
      "text/plain": [
       "<Figure size 1800x1440 with 0 Axes>"
      ]
     },
     "execution_count": 127,
     "metadata": {},
     "output_type": "execute_result"
    },
    {
     "data": {
      "text/plain": [
       "<AxesSubplot:>"
      ]
     },
     "execution_count": 127,
     "metadata": {},
     "output_type": "execute_result"
    },
    {
     "data": {
      "text/plain": [
       "<AxesSubplot:xlabel='Survived', ylabel='count'>"
      ]
     },
     "execution_count": 127,
     "metadata": {},
     "output_type": "execute_result"
    },
    {
     "data": {
      "text/plain": [
       "<AxesSubplot:>"
      ]
     },
     "execution_count": 127,
     "metadata": {},
     "output_type": "execute_result"
    },
    {
     "data": {
      "text/plain": [
       "<AxesSubplot:xlabel='Pclass', ylabel='count'>"
      ]
     },
     "execution_count": 127,
     "metadata": {},
     "output_type": "execute_result"
    },
    {
     "data": {
      "text/plain": [
       "<AxesSubplot:>"
      ]
     },
     "execution_count": 127,
     "metadata": {},
     "output_type": "execute_result"
    },
    {
     "data": {
      "text/plain": [
       "<AxesSubplot:xlabel='Sex', ylabel='count'>"
      ]
     },
     "execution_count": 127,
     "metadata": {},
     "output_type": "execute_result"
    },
    {
     "data": {
      "text/plain": [
       "<AxesSubplot:>"
      ]
     },
     "execution_count": 127,
     "metadata": {},
     "output_type": "execute_result"
    },
    {
     "data": {
      "text/plain": [
       "<AxesSubplot:xlabel='Embarked', ylabel='count'>"
      ]
     },
     "execution_count": 127,
     "metadata": {},
     "output_type": "execute_result"
    },
    {
     "data": {
      "text/plain": [
       "<AxesSubplot:>"
      ]
     },
     "execution_count": 127,
     "metadata": {},
     "output_type": "execute_result"
    },
    {
     "data": {
      "text/plain": [
       "<AxesSubplot:xlabel='Name', ylabel='count'>"
      ]
     },
     "execution_count": 127,
     "metadata": {},
     "output_type": "execute_result"
    },
    {
     "data": {
      "image/png": "[encoded data removed]",
      "text/plain": [
       "<Figure size 1800x1440 with 5 Axes>"
      ]
     },
     "metadata": {
      "needs_background": "light"
     },
     "output_type": "display_data"
    }
   ],
   "source": [
    "plt.figure(figsize = (25,20))\n",
    "for n in enumerate(catFeature):\n",
    "    plt.subplot(2,3, n[0]+1)\n",
    "    sns.countplot(x=n[1], data = TrainDat, hue = 'Survived')"
   ]
  },
  {
   "cell_type": "markdown",
   "id": "397f87bc",
   "metadata": {},
   "source": [
    "From this we can say a few things so far:\n",
    "1). 1st class was the most likely to survive\n",
    "2). Women were more likely to survive\n",
    "3). If you embarked from Cherbourg you were more likely to survive\n",
    "4). If you had the titles \"Mrs, Miss, and Master\" you were more likely to survive than die in the tragedy."
   ]
  },
  {
   "cell_type": "markdown",
   "id": "ff27647b",
   "metadata": {},
   "source": [
    "The graphs below will be scatter plots to see the numerical features and their relationships with survival:"
   ]
  },
  {
   "cell_type": "code",
   "execution_count": 128,
   "id": "82283efb",
   "metadata": {},
   "outputs": [
    {
     "data": {
      "text/plain": [
       "<seaborn.axisgrid.PairGrid at 0x2ba3949adf0>"
      ]
     },
     "execution_count": 128,
     "metadata": {},
     "output_type": "execute_result"
    },
    {
     "data": {
      "image/png": "[encoded data removed]",
      "text/plain": [
       "<Figure size 771.875x720 with 20 Axes>"
      ]
     },
     "metadata": {
      "needs_background": "light"
     },
     "output_type": "display_data"
    }
   ],
   "source": [
    "sns.pairplot(data = TrainDat.drop(columns = ['PassengerId','Pclass']), hue = 'Survived')"
   ]
  },
  {
   "cell_type": "markdown",
   "id": "8314ee55",
   "metadata": {},
   "source": [
    "Admittedly, a lot of this is quite messy to see real correlations with, but even so, we can tell that the extreme ends of the Fare feature (>$300) had a high survival rate, and that most categories had more deaths than survivors."
   ]
  },
  {
   "cell_type": "code",
   "execution_count": 129,
   "id": "7ce61737",
   "metadata": {},
   "outputs": [
    {
     "data": {
      "text/plain": [
       "count    891.000000\n",
       "mean      32.204208\n",
       "std       49.693429\n",
       "min        0.000000\n",
       "25%        7.910400\n",
       "50%       14.454200\n",
       "75%       31.000000\n",
       "max      512.329200\n",
       "Name: Fare, dtype: float64"
      ]
     },
     "execution_count": 129,
     "metadata": {},
     "output_type": "execute_result"
    }
   ],
   "source": [
    "TrainDat['Fare'].describe()\n"
   ]
  },
  {
   "cell_type": "markdown",
   "id": "f0ffc2aa",
   "metadata": {},
   "source": [
    "We will now try with a correlation to survival to determine which of the numeric categories best correlate."
   ]
  },
  {
   "cell_type": "code",
   "execution_count": 130,
   "id": "737c3238",
   "metadata": {},
   "outputs": [
    {
     "data": {
      "text/plain": [
       "Age     -0.077221\n",
       "SibSp   -0.035322\n",
       "Parch    0.081629\n",
       "Fare     0.257307\n",
       "dtype: float64"
      ]
     },
     "execution_count": 130,
     "metadata": {},
     "output_type": "execute_result"
    }
   ],
   "source": [
    "corrM1 = pd.DataFrame(TrainDat, columns = numFeature)\n",
    "corrMat = corrM1.corrwith(TrainDat['Survived'])\n",
    "corrMat"
   ]
  },
  {
   "cell_type": "markdown",
   "id": "4bed8029",
   "metadata": {},
   "source": [
    "From the numeric features we can see that there is not a good correlation between any of them and survival.  However, considering most of the passengers died across the board this is to be expected.  The best were using the absolute values of the correlation metrics would be the \"Parch\" column."
   ]
  },
  {
   "cell_type": "markdown",
   "id": "49be4c97",
   "metadata": {},
   "source": [
    "Data Processing"
   ]
  },
  {
   "cell_type": "code",
   "execution_count": 131,
   "id": "9e19a42c",
   "metadata": {},
   "outputs": [],
   "source": [
    "def clean_data(data):\n",
    "    #Dropping columns that will not be necessary due to no new information given or lots of missing data\n",
    "    data=data.drop(['PassengerId','Name','Ticket','Cabin'], axis = 1)\n",
    "    \n",
    "    #binning Age into different classes 'Children', 'Teenage', 'Adult', 'Elderly'\n",
    "    data['Age'] = pd.cut(data['Age'], bins=[0,12,20,60,120], labels = ['Children','Teenage','Adult','Elder'])\n",
    "    \n",
    "    #Converting Fare into four categories 'Low, Median, Average, High'\n",
    "    data['Fare'] = pd.cut(data['Fare'], bins=[0,7.91,14.45,31,120], labels = ['Low', 'Median','Average','High'])\n",
    "    \n",
    "    #OneHotEncoding all Categorical Columns\n",
    "    data = pd.get_dummies(data, columns = ['Sex','Age','Embarked','Fare'])\n",
    "    \n",
    "    return data\n",
    "    "
   ]
  },
  {
   "cell_type": "code",
   "execution_count": 132,
   "id": "8bf5c0b9",
   "metadata": {},
   "outputs": [],
   "source": [
    "TrainDat2 = TrainDat.copy()\n",
    "TrainDat2 = clean_data(TrainDat2)"
   ]
  },
  {
   "cell_type": "markdown",
   "id": "913c0d53",
   "metadata": {},
   "source": [
    "Model Creation"
   ]
  },
  {
   "cell_type": "code",
   "execution_count": 133,
   "id": "a504213e",
   "metadata": {},
   "outputs": [],
   "source": [
    "from sklearn.compose import ColumnTransformer\n",
    "from sklearn.datasets import fetch_openml\n",
    "from sklearn.impute import SimpleImputer\n",
    "from sklearn.model_selection import StratifiedKFold\n",
    "from sklearn.model_selection import cross_validate\n",
    "from sklearn.metrics import confusion_matrix, plot_confusion_matrix\n",
    "from sklearn.preprocessing import KBinsDiscretizer\n",
    "from sklearn.discriminant_analysis import LinearDiscriminantAnalysis\n",
    "from sklearn.covariance import OAS\n",
    "from sklearn.ensemble import RandomForestClassifier\n",
    "from sklearn.ensemble import GradientBoostingClassifier\n",
    "from sklearn.ensemble import RandomForestRegressor\n",
    "from sklearn.model_selection import RandomizedSearchCV"
   ]
  },
  {
   "cell_type": "code",
   "execution_count": 134,
   "id": "0f893bd8",
   "metadata": {},
   "outputs": [],
   "source": [
    "#First thing for all models is to create our training and testing data\n",
    "X = TrainDat2.drop('Survived', axis = 1)\n",
    "Y = TrainDat2['Survived']\n",
    "xTrain, xTest, yTrain, yTest = train_test_split(X, Y,\n",
    "                                               test_size = 0.3, random_state = 42)"
   ]
  },
  {
   "cell_type": "code",
   "execution_count": 135,
   "id": "93c569de",
   "metadata": {},
   "outputs": [],
   "source": [
    "#Need to import some more necessary libraries for k-fold and cross validation\n",
    "from sklearn.metrics import accuracy_score,confusion_matrix, classification_report\n",
    "from sklearn.model_selection import KFold, cross_val_score, cross_val_predict"
   ]
  },
  {
   "cell_type": "markdown",
   "id": "298dafba",
   "metadata": {},
   "source": [
    "Model: Random Forest"
   ]
  },
  {
   "cell_type": "code",
   "execution_count": 136,
   "id": "26bd9b41",
   "metadata": {},
   "outputs": [
    {
     "data": {
      "text/plain": [
       "RandomForestClassifier()"
      ]
     },
     "execution_count": 136,
     "metadata": {},
     "output_type": "execute_result"
    },
    {
     "name": "stdout",
     "output_type": "stream",
     "text": [
      "             Random Forest            \n",
      "RF Accuracy is:  77.99\n",
      "The RF cross validated score is:  81.82\n"
     ]
    },
    {
     "data": {
      "text/plain": [
       "<AxesSubplot:>"
      ]
     },
     "execution_count": 136,
     "metadata": {},
     "output_type": "execute_result"
    },
    {
     "data": {
      "text/plain": [
       "Text(0.5, 1, 'Confusion Matrix')"
      ]
     },
     "execution_count": 136,
     "metadata": {},
     "output_type": "execute_result"
    },
    {
     "data": {
      "image/png": "[encoded data removed]",
      "text/plain": [
       "<Figure size 432x288 with 2 Axes>"
      ]
     },
     "metadata": {
      "needs_background": "light"
     },
     "output_type": "display_data"
    }
   ],
   "source": [
    "model = RandomForestClassifier()\n",
    "model.fit(xTrain, yTrain)\n",
    "predRF = model.predict(xTest)\n",
    "print('             Random Forest            ')\n",
    "print('RF Accuracy is: ', round(accuracy_score(predRF, yTest)*100,2))\n",
    "#Now to Kfold the data into 10 equal sections\n",
    "kfold = KFold(n_splits =8, shuffle = True, random_state =42)\n",
    "#To cross validate and give a score\n",
    "resRF = cross_val_score(model, X, Y, cv=10, scoring='accuracy')\n",
    "print('The RF cross validated score is: ',round(resRF.mean()*100,2))\n",
    "#Model Predictions\n",
    "yPred = cross_val_predict(model,X, Y, cv=10)\n",
    "#Create a Confusion Matrix\n",
    "sns.heatmap(confusion_matrix(Y,yPred),annot=True, fmt='3.0f', cmap='Accent_r')\n",
    "plt.title('Confusion Matrix', y=1, size=15)\n"
   ]
  },
  {
   "cell_type": "markdown",
   "id": "b12fec62",
   "metadata": {},
   "source": [
    "Model: Gradient Boosted"
   ]
  },
  {
   "cell_type": "code",
   "execution_count": 137,
   "id": "0552ccc6",
   "metadata": {},
   "outputs": [
    {
     "data": {
      "text/plain": [
       "GradientBoostingClassifier()"
      ]
     },
     "execution_count": 137,
     "metadata": {},
     "output_type": "execute_result"
    },
    {
     "name": "stdout",
     "output_type": "stream",
     "text": [
      "             Gradient Boosted            \n",
      "Gradient Boosted Accuracy is:  77.99\n",
      "The Gradient Boosted cross validated score is:  81.82\n"
     ]
    },
    {
     "data": {
      "text/plain": [
       "<AxesSubplot:>"
      ]
     },
     "execution_count": 137,
     "metadata": {},
     "output_type": "execute_result"
    },
    {
     "data": {
      "text/plain": [
       "Text(0.5, 1, 'Confusion Matrix')"
      ]
     },
     "execution_count": 137,
     "metadata": {},
     "output_type": "execute_result"
    },
    {
     "data": {
      "image/png": "[encoded data removed]",
      "text/plain": [
       "<Figure size 432x288 with 2 Axes>"
      ]
     },
     "metadata": {
      "needs_background": "light"
     },
     "output_type": "display_data"
    }
   ],
   "source": [
    "model = GradientBoostingClassifier()\n",
    "model.fit(xTrain, yTrain)\n",
    "predGrad = model.predict(xTest)\n",
    "print('             Gradient Boosted            ')\n",
    "print('Gradient Boosted Accuracy is: ', round(accuracy_score(predRF, yTest)*100,2))\n",
    "#Now to Kfold the data into 10 equal sections\n",
    "kfold = KFold(n_splits =8, shuffle = True, random_state =42)\n",
    "#To cross validate and give a score\n",
    "resGrad = cross_val_score(model, X, Y, cv=10, scoring='accuracy')\n",
    "print('The Gradient Boosted cross validated score is: ',round(resRF.mean()*100,2))\n",
    "#Model Predictions\n",
    "yPred = cross_val_predict(model,X, Y, cv=10)\n",
    "#Create a Confusion Matrix\n",
    "sns.heatmap(confusion_matrix(Y,yPred),annot=True, fmt='3.0f', cmap='Accent_r')\n",
    "plt.title('Confusion Matrix', y=1, size=15)"
   ]
  },
  {
   "cell_type": "markdown",
   "id": "5e5cf544",
   "metadata": {},
   "source": [
    "Model Evaluation"
   ]
  },
  {
   "cell_type": "code",
   "execution_count": 138,
   "id": "aae71b7e",
   "metadata": {},
   "outputs": [
    {
     "data": {
      "text/html": [
       "<div>\n",
       "<style scoped>\n",
       "    .dataframe tbody tr th:only-of-type {\n",
       "        vertical-align: middle;\n",
       "    }\n",
       "\n",
       "    .dataframe tbody tr th {\n",
       "        vertical-align: top;\n",
       "    }\n",
       "\n",
       "    .dataframe thead th {\n",
       "        text-align: right;\n",
       "    }\n",
       "</style>\n",
       "<table border=\"1\" class=\"dataframe\">\n",
       "  <thead>\n",
       "    <tr style=\"text-align: right;\">\n",
       "      <th></th>\n",
       "      <th>Model</th>\n",
       "      <th>Score</th>\n",
       "    </tr>\n",
       "  </thead>\n",
       "  <tbody>\n",
       "    <tr>\n",
       "      <th>1</th>\n",
       "      <td>Gradient Boosted</td>\n",
       "      <td>0.823795</td>\n",
       "    </tr>\n",
       "    <tr>\n",
       "      <th>0</th>\n",
       "      <td>RF</td>\n",
       "      <td>0.818190</td>\n",
       "    </tr>\n",
       "  </tbody>\n",
       "</table>\n",
       "</div>"
      ],
      "text/plain": [
       "              Model     Score\n",
       "1  Gradient Boosted  0.823795\n",
       "0                RF  0.818190"
      ]
     },
     "execution_count": 138,
     "metadata": {},
     "output_type": "execute_result"
    }
   ],
   "source": [
    "models = pd.DataFrame ({\n",
    "    'Model':['RF','Gradient Boosted'],\n",
    "    'Score':[resRF.mean(), resGrad.mean()]\n",
    "})\n",
    "models.sort_values(by = 'Score', ascending = False)"
   ]
  },
  {
   "cell_type": "markdown",
   "id": "8afad6ac",
   "metadata": {},
   "source": [
    "HyperParameter Tuning"
   ]
  },
  {
   "cell_type": "markdown",
   "id": "eae5b450",
   "metadata": {},
   "source": [
    "Hypertuning Random Forest Model"
   ]
  },
  {
   "cell_type": "code",
   "execution_count": 139,
   "id": "b3cfaed6",
   "metadata": {},
   "outputs": [
    {
     "name": "stdout",
     "output_type": "stream",
     "text": [
      "Fitting 3 folds for each of 100 candidates, totalling 300 fits\n"
     ]
    },
    {
     "data": {
      "text/plain": [
       "RandomizedSearchCV(cv=3, estimator=RandomForestClassifier(), n_iter=100,\n",
       "                   n_jobs=-1,\n",
       "                   param_distributions={'bootstrap': [True, False],\n",
       "                                        'max_depth': [10, 20, 30, 40, 50, 60,\n",
       "                                                      70, 80, 90, 100, 110,\n",
       "                                                      None],\n",
       "                                        'max_features': ['auto', 'sqrt'],\n",
       "                                        'min_samples_split': [2, 5, 10],\n",
       "                                        'n_estimators': [200, 300, 400, 500,\n",
       "                                                         600, 700, 800, 900,\n",
       "                                                         1000, 1100, 1200, 1300,\n",
       "                                                         1400, 1500]},\n",
       "                   random_state=42, verbose=2)"
      ]
     },
     "execution_count": 139,
     "metadata": {},
     "output_type": "execute_result"
    },
    {
     "name": "stdout",
     "output_type": "stream",
     "text": [
      "0.8218444196705067\n"
     ]
    },
    {
     "data": {
      "text/plain": [
       "RandomForestClassifier(max_depth=10, min_samples_split=10, n_estimators=300)"
      ]
     },
     "execution_count": 139,
     "metadata": {},
     "output_type": "execute_result"
    }
   ],
   "source": [
    "#We will generate random tunings and iterate to find the best version of these random tunings to determine our optimal hyperparameters\n",
    "model = RandomForestClassifier()\n",
    "\n",
    "#Number of trees in the forest\n",
    "n_estimators = [200,300,400,500,600,700,800,900,1000,1100,1200,1300,1400,1500]\n",
    "#Number of features to consider every split\n",
    "max_features = ['auto','sqrt']\n",
    "#Maximum number of levels in the tree\n",
    "max_depth = [int(x) for x in np.linspace(10,110, num =11)]\n",
    "max_depth.append(None)\n",
    "#Minimum number of samples require to split a node\n",
    "min_samples_split=[2,5,10]\n",
    "#Minimum number of samples for training each tree\n",
    "bootstrap = [True,False]\n",
    "\n",
    "\n",
    "paramGrid = {\n",
    "    'n_estimators': n_estimators,\n",
    "    'max_features': max_features,\n",
    "    'max_depth':max_depth,\n",
    "    'min_samples_split':min_samples_split,\n",
    "    'bootstrap':bootstrap\n",
    "}\n",
    "\n",
    "randomRF = RandomizedSearchCV(estimator=model, param_distributions =paramGrid, n_iter=100, cv=3, verbose=2, random_state=42, n_jobs=-1)\n",
    "#finding the best score with the best parameters\n",
    "randomRF.fit(xTrain, yTrain)\n",
    "print(randomRF.best_score_)\n",
    "#best estimation\n",
    "randomRF.best_estimator_"
   ]
  },
  {
   "cell_type": "markdown",
   "id": "1ea5884c",
   "metadata": {},
   "source": [
    "Hypertuning Gradient Boosting Model"
   ]
  },
  {
   "cell_type": "code",
   "execution_count": 140,
   "id": "4fbe6fc5",
   "metadata": {},
   "outputs": [
    {
     "name": "stdout",
     "output_type": "stream",
     "text": [
      "Fitting 3 folds for each of 100 candidates, totalling 300 fits\n"
     ]
    },
    {
     "data": {
      "text/plain": [
       "RandomizedSearchCV(cv=3, estimator=GradientBoostingClassifier(), n_iter=100,\n",
       "                   n_jobs=-1,\n",
       "                   param_distributions={'learning_rate': [0.01, 0.1, 1, 10,\n",
       "                                                          100],\n",
       "                                        'max_depth': [10, 20, 30, 40, 50, 60,\n",
       "                                                      70, 80, 90, 100, 110,\n",
       "                                                      None],\n",
       "                                        'max_features': ['auto', 'sqrt'],\n",
       "                                        'min_samples_split': [2, 5, 10],\n",
       "                                        'n_estimators': [200, 300, 400, 500,\n",
       "                                                         600, 700, 800, 900,\n",
       "                                                         1000, 1100, 1200, 1300,\n",
       "                                                         1400, 1500]},\n",
       "                   random_state=42, verbose=2)"
      ]
     },
     "execution_count": 140,
     "metadata": {},
     "output_type": "execute_result"
    },
    {
     "name": "stdout",
     "output_type": "stream",
     "text": [
      "0.8138393410132542\n"
     ]
    },
    {
     "data": {
      "text/plain": [
       "GradientBoostingClassifier(learning_rate=0.01, max_depth=30,\n",
       "                           max_features='sqrt', min_samples_split=10,\n",
       "                           n_estimators=300)"
      ]
     },
     "execution_count": 140,
     "metadata": {},
     "output_type": "execute_result"
    }
   ],
   "source": [
    "#We will generate random tunings and iterate to find the best version of these random tunings to determine our optimal hyperparameters\n",
    "model = GradientBoostingClassifier()\n",
    "\n",
    "#Number of trees in the forest\n",
    "n_estimators = [200,300,400,500,600,700,800,900,1000,1100,1200,1300,1400,1500]\n",
    "#Number of features to consider every split\n",
    "max_features = ['auto','sqrt']\n",
    "#Maximum number of levels in the tree\n",
    "max_depth = [int(x) for x in np.linspace(10,110, num =11)]\n",
    "max_depth.append(None)\n",
    "#Minimum number of samples require to split a node\n",
    "min_samples_split=[2,5,10]\n",
    "#Determine the Learning Rate of the model\n",
    "learning_rate = [0.01,0.1,1,10,100]\n",
    "\n",
    "paramGrid = {\n",
    "    'n_estimators': n_estimators,\n",
    "    'max_features': max_features,\n",
    "    'max_depth':max_depth,\n",
    "    'min_samples_split':min_samples_split,\n",
    "    'learning_rate':learning_rate\n",
    "}\n",
    "\n",
    "randomGrad = RandomizedSearchCV(estimator=model, param_distributions =paramGrid, n_iter=100, cv=3, verbose=2, random_state=42, n_jobs=-1)\n",
    "#finding the best score with the best parameters\n",
    "randomGrad.fit(xTrain, yTrain)\n",
    "print(randomGrad.best_score_)\n",
    "#best estimation\n",
    "randomGrad.best_estimator_"
   ]
  },
  {
   "cell_type": "markdown",
   "id": "81ce3f3d",
   "metadata": {},
   "source": [
    "Comparing our baseline and hyperparameter tuned models"
   ]
  },
  {
   "cell_type": "code",
   "execution_count": 141,
   "id": "18936595",
   "metadata": {
    "scrolled": true
   },
   "outputs": [
    {
     "data": {
      "text/plain": [
       "RandomForestClassifier(max_depth=10, max_features='sqrt', min_samples_split=10,\n",
       "                       n_estimators=200)"
      ]
     },
     "execution_count": 141,
     "metadata": {},
     "output_type": "execute_result"
    },
    {
     "data": {
      "text/plain": [
       "GradientBoostingClassifier(learning_rate=0.01, max_depth=30,\n",
       "                           max_features='sqrt', min_samples_split=10,\n",
       "                           n_estimators=300)"
      ]
     },
     "execution_count": 141,
     "metadata": {},
     "output_type": "execute_result"
    },
    {
     "name": "stdout",
     "output_type": "stream",
     "text": [
      "RF Baseline Accuracy is:  77.99\n",
      "RF Model 2 Accuracy is:  79.85\n",
      "Gradient Boosting Baseline Accuracy is:  82.09\n",
      "Gradient Boosting Model 2 Accuracy is:  80.97\n"
     ]
    }
   ],
   "source": [
    "#need to generate a prediction of data with the optimized parameters for our Random Forest Model\n",
    "rfModel2 = RandomForestClassifier(max_depth = 10, max_features ='sqrt', min_samples_split=10, n_estimators=200)\n",
    "rfModel2.fit(xTrain,yTrain)\n",
    "predRF2 = rfModel2.predict(xTest)\n",
    "\n",
    "#generating a prediction for our optimized parameters for our Gradient Boosting Model\n",
    "gradModel2 = GradientBoostingClassifier(learning_rate=0.01, max_depth=30, max_features='sqrt', min_samples_split=10, n_estimators=300)\n",
    "gradModel2.fit(xTrain,yTrain)\n",
    "predGrad2 = gradModel2.predict(xTest)\n",
    "\n",
    "print('RF Baseline Accuracy is: ', round(accuracy_score(predRF, yTest)*100,2))\n",
    "print('RF Model 2 Accuracy is: ', round(accuracy_score(predRF2, yTest)*100,2))\n",
    "print('Gradient Boosting Baseline Accuracy is: ', round(accuracy_score(predGrad, yTest)*100,2))\n",
    "print('Gradient Boosting Model 2 Accuracy is: ', round(accuracy_score(predGrad2, yTest)*100,2))"
   ]
  },
  {
   "cell_type": "markdown",
   "id": "b24cb195",
   "metadata": {},
   "source": [
    "Applying the best parameters deterning in the Hyperparameter Tuning"
   ]
  },
  {
   "cell_type": "code",
   "execution_count": 142,
   "id": "8b9285b4",
   "metadata": {},
   "outputs": [
    {
     "data": {
      "text/plain": [
       "RandomForestClassifier(max_depth=10, max_features='sqrt', min_samples_split=10,\n",
       "                       n_estimators=200)"
      ]
     },
     "execution_count": 142,
     "metadata": {},
     "output_type": "execute_result"
    }
   ],
   "source": [
    "rfModel = RandomForestClassifier(max_depth = 10, max_features ='sqrt', min_samples_split=10, n_estimators=200)\n",
    "rfModel.fit(xTrain,yTrain)\n"
   ]
  },
  {
   "cell_type": "markdown",
   "id": "c5ef11a4",
   "metadata": {},
   "source": [
    "Test Data and Submission"
   ]
  },
  {
   "cell_type": "code",
   "execution_count": 143,
   "id": "c9e18b47",
   "metadata": {},
   "outputs": [],
   "source": [
    "#Cleaning the Test Data\n",
    "testDat = clean_data(TestDat)"
   ]
  },
  {
   "cell_type": "code",
   "execution_count": 144,
   "id": "8c173bb2",
   "metadata": {},
   "outputs": [],
   "source": [
    "yPred = rfModel.predict(testDat)"
   ]
  },
  {
   "cell_type": "code",
   "execution_count": 145,
   "id": "3320fb84",
   "metadata": {},
   "outputs": [],
   "source": [
    "submission = pd.DataFrame({\n",
    "    \"PassengerId\":TestDat['PassengerId'],\n",
    "    \"Survived\":yPred\n",
    "})"
   ]
  },
  {
   "cell_type": "code",
   "execution_count": 146,
   "id": "c0bebf86",
   "metadata": {},
   "outputs": [],
   "source": [
    "submission.to_csv('Submission.csv', index = False)"
   ]
  },
  {
   "cell_type": "code",
   "execution_count": null,
   "id": "265e2e17",
   "metadata": {},
   "outputs": [],
   "source": []
  }
 ],
 "metadata": {
  "kernelspec": {
   "display_name": "Python 3",
   "language": "python",
   "name": "python3"
  },
  "language_info": {
   "codemirror_mode": {
    "name": "ipython",
    "version": 3
   },
   "file_extension": ".py",
   "mimetype": "text/x-python",
   "name": "python",
   "nbconvert_exporter": "python",
   "pygments_lexer": "ipython3",
   "version": "3.8.8"
  }
 },
 "nbformat": 4,
 "nbformat_minor": 5
}
